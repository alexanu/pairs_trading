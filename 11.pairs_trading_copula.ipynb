{
 "cells": [
  {
   "cell_type": "code",
   "execution_count": 7,
   "id": "a439fa67",
   "metadata": {},
   "outputs": [],
   "source": [
    "import pandas as pd\n",
    "import numpy as np\n",
    "import matplotlib.pyplot as plt\n",
    "from scipy import stats\n",
    "import seaborn as sns"
   ]
  },
  {
   "cell_type": "code",
   "execution_count": 8,
   "id": "8b9f1684",
   "metadata": {},
   "outputs": [],
   "source": [
    "# set theme\n",
    "plt.style.use('seaborn')\n",
    "sns.set_style('darkgrid')"
   ]
  },
  {
   "cell_type": "code",
   "execution_count": 9,
   "id": "355a2b16",
   "metadata": {},
   "outputs": [],
   "source": [
    "prices = pd.read_csv('vbr18_21.csv', index_col=0)\n",
    "prices = prices.dropna(axis=1)\n",
    "returns = np.log(prices).diff().dropna()"
   ]
  },
  {
   "cell_type": "code",
   "execution_count": 10,
   "id": "73b6d20a",
   "metadata": {},
   "outputs": [],
   "source": [
    "form_start = '2018-11-20'\n",
    "form_end = '2020-05-19'\n",
    "trade_start = '2021-05-20'\n",
    "trade_end = '2021-11-19'\n",
    "\n",
    "prices_form = prices[form_start:form_end]\n",
    "prices_trade = prices[trade_start:trade_end]\n",
    "returns_form = returns.loc[form_start:form_end]\n",
    "returns_trade = returns.loc[trade_start:trade_end]"
   ]
  },
  {
   "cell_type": "code",
   "execution_count": 5,
   "id": "bd15e161",
   "metadata": {},
   "outputs": [
    {
     "data": {
      "text/plain": [
       "\"\\n# Calculate Kendall's tau for each pair of stocks\\nresults = pd.DataFrame(columns=['tau'])\\n\\nfor s1 in returns_form.columns:\\n    for s2 in returns_form.columns:\\n        if (s1!=s2) and (f'{s2}-{s1}' not in results.index):\\n            results.loc[f'{s1}-{s2}'] = stats.kendalltau(returns_form[s1], returns_form[s2])[0]\\n\""
      ]
     },
     "execution_count": 5,
     "metadata": {},
     "output_type": "execute_result"
    }
   ],
   "source": [
    "'''\n",
    "# Calculate Kendall's tau for each pair of stocks\n",
    "results = pd.DataFrame(columns=['tau'])\n",
    "\n",
    "for s1 in returns_form.columns:\n",
    "    for s2 in returns_form.columns:\n",
    "        if (s1!=s2) and (f'{s2}-{s1}' not in results.index):\n",
    "            results.loc[f'{s1}-{s2}'] = stats.kendalltau(returns_form[s1], returns_form[s2])[0]\n",
    "'''"
   ]
  },
  {
   "cell_type": "code",
   "execution_count": 6,
   "id": "7c42fa0b",
   "metadata": {},
   "outputs": [],
   "source": [
    "#results.to_csv('pairs_tau.csv')"
   ]
  },
  {
   "cell_type": "code",
   "execution_count": 7,
   "id": "19f3b4e9",
   "metadata": {},
   "outputs": [],
   "source": [
    "results = pd.read_csv('pairs_tau.csv', index_col=0)"
   ]
  },
  {
   "cell_type": "code",
   "execution_count": 8,
   "id": "62a1f76e",
   "metadata": {},
   "outputs": [
    {
     "data": {
      "text/html": [
       "<div>\n",
       "<style scoped>\n",
       "    .dataframe tbody tr th:only-of-type {\n",
       "        vertical-align: middle;\n",
       "    }\n",
       "\n",
       "    .dataframe tbody tr th {\n",
       "        vertical-align: top;\n",
       "    }\n",
       "\n",
       "    .dataframe thead th {\n",
       "        text-align: right;\n",
       "    }\n",
       "</style>\n",
       "<table border=\"1\" class=\"dataframe\">\n",
       "  <thead>\n",
       "    <tr style=\"text-align: right;\">\n",
       "      <th></th>\n",
       "      <th>tau</th>\n",
       "    </tr>\n",
       "  </thead>\n",
       "  <tbody>\n",
       "    <tr>\n",
       "      <th>WTRG-SWN</th>\n",
       "      <td>-0.054499</td>\n",
       "    </tr>\n",
       "    <tr>\n",
       "      <th>FLO-SWN</th>\n",
       "      <td>-0.050804</td>\n",
       "    </tr>\n",
       "    <tr>\n",
       "      <th>OVV-FLO</th>\n",
       "      <td>-0.045919</td>\n",
       "    </tr>\n",
       "    <tr>\n",
       "      <th>FLO-AR</th>\n",
       "      <td>-0.045274</td>\n",
       "    </tr>\n",
       "    <tr>\n",
       "      <th>BGS-WK</th>\n",
       "      <td>-0.041691</td>\n",
       "    </tr>\n",
       "    <tr>\n",
       "      <th>...</th>\n",
       "      <td>...</td>\n",
       "    </tr>\n",
       "    <tr>\n",
       "      <th>HOMB-CATY</th>\n",
       "      <td>0.725432</td>\n",
       "    </tr>\n",
       "    <tr>\n",
       "      <th>CFR-ASB</th>\n",
       "      <td>0.729228</td>\n",
       "    </tr>\n",
       "    <tr>\n",
       "      <th>CFR-BOKF</th>\n",
       "      <td>0.731751</td>\n",
       "    </tr>\n",
       "    <tr>\n",
       "      <th>MTG-RDN</th>\n",
       "      <td>0.738985</td>\n",
       "    </tr>\n",
       "    <tr>\n",
       "      <th>CENTA-CENT</th>\n",
       "      <td>0.834718</td>\n",
       "    </tr>\n",
       "  </tbody>\n",
       "</table>\n",
       "<p>256686 rows × 1 columns</p>\n",
       "</div>"
      ],
      "text/plain": [
       "                 tau\n",
       "WTRG-SWN   -0.054499\n",
       "FLO-SWN    -0.050804\n",
       "OVV-FLO    -0.045919\n",
       "FLO-AR     -0.045274\n",
       "BGS-WK     -0.041691\n",
       "...              ...\n",
       "HOMB-CATY   0.725432\n",
       "CFR-ASB     0.729228\n",
       "CFR-BOKF    0.731751\n",
       "MTG-RDN     0.738985\n",
       "CENTA-CENT  0.834718\n",
       "\n",
       "[256686 rows x 1 columns]"
      ]
     },
     "execution_count": 8,
     "metadata": {},
     "output_type": "execute_result"
    }
   ],
   "source": [
    "results.sort_values(by='tau')"
   ]
  },
  {
   "cell_type": "code",
   "execution_count": 9,
   "id": "009fe8e4",
   "metadata": {},
   "outputs": [],
   "source": [
    "def parse_pair(pair):\n",
    "    s1 = pair[:pair.find('-')]\n",
    "    s2 = pair[pair.find('-')+1:]\n",
    "    return s1,s2"
   ]
  },
  {
   "cell_type": "code",
   "execution_count": 10,
   "id": "c04ace25",
   "metadata": {},
   "outputs": [],
   "source": [
    "selected_stocks = []\n",
    "selected_pairs = []\n",
    "\n",
    "for pair in results.sort_values(by='tau', ascending=False).index:\n",
    "    s1,s2 = parse_pair(pair)\n",
    "    if (s1 not in selected_stocks) and (s2 not in selected_stocks):\n",
    "        selected_stocks.append(s1)\n",
    "        selected_stocks.append(s2)\n",
    "        selected_pairs.append(pair)\n",
    "    \n",
    "    if len(selected_pairs) == 25:\n",
    "        break"
   ]
  },
  {
   "cell_type": "code",
   "execution_count": 11,
   "id": "d945eef0",
   "metadata": {},
   "outputs": [
    {
     "name": "stdout",
     "output_type": "stream",
     "text": [
      "['CENTA-CENT', 'MTG-RDN', 'CFR-BOKF', 'HOMB-CATY', 'CMA-ZION', 'EWBC-ASB', 'UMBF-FULT', 'TDS-USM', 'KIM-BRX', 'PACW-FNB', 'NBTB-STBA', 'VOYA-LNC', 'VLY-HOPE', 'ONB-FFBC', 'COLB-FCF', 'ROIC-AKR', 'UBSI-TRMK', 'FRME-HTLF', 'WAL-UMPQ', 'STL-HWC', 'FR-EGP', 'GBCI-FIBK', 'PBCT-WBS', 'AWR-CWT', 'AUB-TOWN']\n"
     ]
    }
   ],
   "source": [
    "print(selected_pairs)"
   ]
  },
  {
   "cell_type": "markdown",
   "id": "6cd76ed1",
   "metadata": {},
   "source": [
    "# Fit marginals"
   ]
  },
  {
   "cell_type": "code",
   "execution_count": 12,
   "id": "59ec30a6",
   "metadata": {},
   "outputs": [
    {
     "name": "stderr",
     "output_type": "stream",
     "text": [
      "/home/alex/anaconda3/lib/python3.8/site-packages/scipy/stats/_continuous_distns.py:2492: RuntimeWarning: invalid value encountered in subtract\n",
      "  -pex2+logpex2-logex2)\n"
     ]
    }
   ],
   "source": [
    "marginals_df = pd.DataFrame(index=selected_stocks, columns=['Distribution', 'AIC', 'BIC', 'KS_pvalue'])\n",
    "\n",
    "for stock in selected_stocks:\n",
    "    data = returns_form[stock]\n",
    "    dists = ['Normal', \"Student's t\", 'Logistic', 'Extreme']\n",
    "    best_aic = np.inf\n",
    "    for dist,name in zip([stats.norm, stats.t, stats.genlogistic, stats.genextreme], dists):\n",
    "        params = dist.fit(data)\n",
    "        dist_fit = dist(*params)\n",
    "        log_like = np.log(dist_fit.pdf(data)).sum()\n",
    "        aic = 2*len(params) - 2 * log_like\n",
    "        if aic<best_aic:\n",
    "            best_dist = name\n",
    "            best_aic = aic\n",
    "            best_bic = len(params) * np.log(len(data)) - 2 * log_like\n",
    "            ks_pval = stats.kstest(data, dist_fit.cdf, N=100)[1]\n",
    "    marginals_df.loc[stock] = [best_dist, best_aic, best_bic, ks_pval]"
   ]
  },
  {
   "cell_type": "code",
   "execution_count": 13,
   "id": "01160441",
   "metadata": {
    "scrolled": true
   },
   "outputs": [
    {
     "data": {
      "text/html": [
       "<div>\n",
       "<style scoped>\n",
       "    .dataframe tbody tr th:only-of-type {\n",
       "        vertical-align: middle;\n",
       "    }\n",
       "\n",
       "    .dataframe tbody tr th {\n",
       "        vertical-align: top;\n",
       "    }\n",
       "\n",
       "    .dataframe thead th {\n",
       "        text-align: right;\n",
       "    }\n",
       "</style>\n",
       "<table border=\"1\" class=\"dataframe\">\n",
       "  <thead>\n",
       "    <tr style=\"text-align: right;\">\n",
       "      <th></th>\n",
       "      <th>Distribution</th>\n",
       "      <th>AIC</th>\n",
       "      <th>BIC</th>\n",
       "      <th>KS_pvalue</th>\n",
       "    </tr>\n",
       "  </thead>\n",
       "  <tbody>\n",
       "    <tr>\n",
       "      <th>CENTA</th>\n",
       "      <td>Student's t</td>\n",
       "      <td>-1766.721394</td>\n",
       "      <td>-1754.948627</td>\n",
       "      <td>0.501764</td>\n",
       "    </tr>\n",
       "    <tr>\n",
       "      <th>CENT</th>\n",
       "      <td>Student's t</td>\n",
       "      <td>-1776.277334</td>\n",
       "      <td>-1764.504567</td>\n",
       "      <td>0.788573</td>\n",
       "    </tr>\n",
       "    <tr>\n",
       "      <th>MTG</th>\n",
       "      <td>Student's t</td>\n",
       "      <td>-1705.88267</td>\n",
       "      <td>-1694.109902</td>\n",
       "      <td>0.648663</td>\n",
       "    </tr>\n",
       "    <tr>\n",
       "      <th>RDN</th>\n",
       "      <td>Student's t</td>\n",
       "      <td>-1721.424509</td>\n",
       "      <td>-1709.651741</td>\n",
       "      <td>0.739781</td>\n",
       "    </tr>\n",
       "    <tr>\n",
       "      <th>CFR</th>\n",
       "      <td>Student's t</td>\n",
       "      <td>-1733.045019</td>\n",
       "      <td>-1721.272252</td>\n",
       "      <td>0.864011</td>\n",
       "    </tr>\n",
       "    <tr>\n",
       "      <th>BOKF</th>\n",
       "      <td>Student's t</td>\n",
       "      <td>-1749.361441</td>\n",
       "      <td>-1737.588673</td>\n",
       "      <td>0.871464</td>\n",
       "    </tr>\n",
       "    <tr>\n",
       "      <th>HOMB</th>\n",
       "      <td>Student's t</td>\n",
       "      <td>-1659.902646</td>\n",
       "      <td>-1648.129878</td>\n",
       "      <td>0.957393</td>\n",
       "    </tr>\n",
       "    <tr>\n",
       "      <th>CATY</th>\n",
       "      <td>Student's t</td>\n",
       "      <td>-1783.08619</td>\n",
       "      <td>-1771.313422</td>\n",
       "      <td>0.990013</td>\n",
       "    </tr>\n",
       "    <tr>\n",
       "      <th>CMA</th>\n",
       "      <td>Student's t</td>\n",
       "      <td>-1650.420255</td>\n",
       "      <td>-1638.647488</td>\n",
       "      <td>0.421582</td>\n",
       "    </tr>\n",
       "    <tr>\n",
       "      <th>ZION</th>\n",
       "      <td>Student's t</td>\n",
       "      <td>-1799.031782</td>\n",
       "      <td>-1787.259015</td>\n",
       "      <td>0.494674</td>\n",
       "    </tr>\n",
       "  </tbody>\n",
       "</table>\n",
       "</div>"
      ],
      "text/plain": [
       "      Distribution          AIC          BIC KS_pvalue\n",
       "CENTA  Student's t -1766.721394 -1754.948627  0.501764\n",
       "CENT   Student's t -1776.277334 -1764.504567  0.788573\n",
       "MTG    Student's t  -1705.88267 -1694.109902  0.648663\n",
       "RDN    Student's t -1721.424509 -1709.651741  0.739781\n",
       "CFR    Student's t -1733.045019 -1721.272252  0.864011\n",
       "BOKF   Student's t -1749.361441 -1737.588673  0.871464\n",
       "HOMB   Student's t -1659.902646 -1648.129878  0.957393\n",
       "CATY   Student's t  -1783.08619 -1771.313422  0.990013\n",
       "CMA    Student's t -1650.420255 -1638.647488  0.421582\n",
       "ZION   Student's t -1799.031782 -1787.259015  0.494674"
      ]
     },
     "execution_count": 13,
     "metadata": {},
     "output_type": "execute_result"
    }
   ],
   "source": [
    "marginals_df.head(10)"
   ]
  },
  {
   "cell_type": "code",
   "execution_count": 14,
   "id": "637a20b5",
   "metadata": {},
   "outputs": [
    {
     "data": {
      "text/plain": [
       "array([\"Student's t\"], dtype=object)"
      ]
     },
     "execution_count": 14,
     "metadata": {},
     "output_type": "execute_result"
    }
   ],
   "source": [
    "marginals_df['Distribution'].unique()"
   ]
  },
  {
   "cell_type": "code",
   "execution_count": 15,
   "id": "1645a6e6",
   "metadata": {},
   "outputs": [
    {
     "data": {
      "text/html": [
       "<div>\n",
       "<style scoped>\n",
       "    .dataframe tbody tr th:only-of-type {\n",
       "        vertical-align: middle;\n",
       "    }\n",
       "\n",
       "    .dataframe tbody tr th {\n",
       "        vertical-align: top;\n",
       "    }\n",
       "\n",
       "    .dataframe thead th {\n",
       "        text-align: right;\n",
       "    }\n",
       "</style>\n",
       "<table border=\"1\" class=\"dataframe\">\n",
       "  <thead>\n",
       "    <tr style=\"text-align: right;\">\n",
       "      <th></th>\n",
       "      <th>Distribution</th>\n",
       "      <th>AIC</th>\n",
       "      <th>BIC</th>\n",
       "      <th>KS_pvalue</th>\n",
       "    </tr>\n",
       "  </thead>\n",
       "  <tbody>\n",
       "  </tbody>\n",
       "</table>\n",
       "</div>"
      ],
      "text/plain": [
       "Empty DataFrame\n",
       "Columns: [Distribution, AIC, BIC, KS_pvalue]\n",
       "Index: []"
      ]
     },
     "execution_count": 15,
     "metadata": {},
     "output_type": "execute_result"
    }
   ],
   "source": [
    "marginals_df[marginals_df['KS_pvalue'] < 0.05]"
   ]
  },
  {
   "cell_type": "markdown",
   "id": "c4f2f28c",
   "metadata": {},
   "source": [
    "# Fit copulas"
   ]
  },
  {
   "cell_type": "code",
   "execution_count": 16,
   "id": "8203e46e",
   "metadata": {},
   "outputs": [],
   "source": [
    "from copulas import *\n",
    "import ndtest # bivariate Kolmogorov-Smirnov"
   ]
  },
  {
   "cell_type": "code",
   "execution_count": 17,
   "id": "2ebd1e79",
   "metadata": {},
   "outputs": [
    {
     "name": "stderr",
     "output_type": "stream",
     "text": [
      "/home/alex/work/blog/pairs_trading/copulas.py:28: RuntimeWarning: invalid value encountered in log\n",
      "  return np.log(self.pdf(u,v)).sum()\n"
     ]
    }
   ],
   "source": [
    "copulas_df = pd.DataFrame(index=selected_pairs, columns=['copula', 'parameter', 'aic', 'bic', 'KS_pvalue'])\n",
    "\n",
    "for pair in selected_pairs:\n",
    "    s1,s2 = parse_pair(pair)\n",
    "    # fit marginals\n",
    "    params_s1 = stats.t.fit(returns_form[s1])\n",
    "    dist_s1 = stats.t(*params_s1)\n",
    "    params_s2 = stats.t.fit(returns_form[s2])\n",
    "    dist_s2 = stats.t(*params_s2)\n",
    "    # apply probability integral transform\n",
    "    u = dist_s1.cdf(returns_form[s1])\n",
    "    v = dist_s2.cdf(returns_form[s2])\n",
    "    \n",
    "    best_aic = np.inf\n",
    "    \n",
    "    for copula in [GaussianCopula(), ClaytonCopula(), GumbelCopula(), FrankCopula(), JoeCopula()]:\n",
    "        copula.fit(u,v)\n",
    "        L = copula.log_likelihood(u,v)\n",
    "        aic = 2 * copula.num_params - 2 * L\n",
    "        if aic < best_aic:\n",
    "            best_aic = aic\n",
    "            best_bic = copula.num_params * np.log(len(u)) - 2 * L\n",
    "            best_copula = copula.name\n",
    "            \n",
    "            # calculate KS-pvalue\n",
    "            smp = copula.sample(size=len(u)) # generate sample from fit copula\n",
    "            s_u = smp[:,0]\n",
    "            s_v = smp[:,1]\n",
    "            ks_pval = ndtest.ks2d2s(u,v,s_u,s_v)\n",
    "            \n",
    "            if isinstance(copula, ArchimedeanCopula):\n",
    "                best_param = copula.alpha\n",
    "            else:\n",
    "                best_param = copula.rho\n",
    "            \n",
    "    copulas_df.loc[pair] = [best_copula, best_param, best_aic, best_bic, ks_pval]"
   ]
  },
  {
   "cell_type": "code",
   "execution_count": 18,
   "id": "26ccd7de",
   "metadata": {
    "scrolled": true
   },
   "outputs": [
    {
     "data": {
      "text/html": [
       "<div>\n",
       "<style scoped>\n",
       "    .dataframe tbody tr th:only-of-type {\n",
       "        vertical-align: middle;\n",
       "    }\n",
       "\n",
       "    .dataframe tbody tr th {\n",
       "        vertical-align: top;\n",
       "    }\n",
       "\n",
       "    .dataframe thead th {\n",
       "        text-align: right;\n",
       "    }\n",
       "</style>\n",
       "<table border=\"1\" class=\"dataframe\">\n",
       "  <thead>\n",
       "    <tr style=\"text-align: right;\">\n",
       "      <th></th>\n",
       "      <th>copula</th>\n",
       "      <th>parameter</th>\n",
       "      <th>aic</th>\n",
       "      <th>bic</th>\n",
       "      <th>KS_pvalue</th>\n",
       "    </tr>\n",
       "  </thead>\n",
       "  <tbody>\n",
       "    <tr>\n",
       "      <th>CENTA-CENT</th>\n",
       "      <td>Gaussian</td>\n",
       "      <td>0.966486</td>\n",
       "      <td>-1016.713382</td>\n",
       "      <td>-1012.789126</td>\n",
       "      <td>0.66109</td>\n",
       "    </tr>\n",
       "    <tr>\n",
       "      <th>MTG-RDN</th>\n",
       "      <td>Gumbel</td>\n",
       "      <td>3.992679</td>\n",
       "      <td>-718.431293</td>\n",
       "      <td>-714.507038</td>\n",
       "      <td>0.524949</td>\n",
       "    </tr>\n",
       "    <tr>\n",
       "      <th>CFR-BOKF</th>\n",
       "      <td>Gaussian</td>\n",
       "      <td>0.912532</td>\n",
       "      <td>-676.586878</td>\n",
       "      <td>-672.662623</td>\n",
       "      <td>0.361025</td>\n",
       "    </tr>\n",
       "    <tr>\n",
       "      <th>HOMB-CATY</th>\n",
       "      <td>Gumbel</td>\n",
       "      <td>3.690078</td>\n",
       "      <td>-663.407379</td>\n",
       "      <td>-659.483123</td>\n",
       "      <td>0.405205</td>\n",
       "    </tr>\n",
       "    <tr>\n",
       "      <th>CMA-ZION</th>\n",
       "      <td>Gaussian</td>\n",
       "      <td>0.90773</td>\n",
       "      <td>-658.74903</td>\n",
       "      <td>-654.824774</td>\n",
       "      <td>0.359609</td>\n",
       "    </tr>\n",
       "    <tr>\n",
       "      <th>EWBC-ASB</th>\n",
       "      <td>Gaussian</td>\n",
       "      <td>0.899782</td>\n",
       "      <td>-631.174724</td>\n",
       "      <td>-627.250468</td>\n",
       "      <td>0.317748</td>\n",
       "    </tr>\n",
       "    <tr>\n",
       "      <th>UMBF-FULT</th>\n",
       "      <td>Gumbel</td>\n",
       "      <td>3.570006</td>\n",
       "      <td>-638.695131</td>\n",
       "      <td>-634.770875</td>\n",
       "      <td>0.119134</td>\n",
       "    </tr>\n",
       "    <tr>\n",
       "      <th>TDS-USM</th>\n",
       "      <td>Gaussian</td>\n",
       "      <td>0.893793</td>\n",
       "      <td>-612.089583</td>\n",
       "      <td>-608.165327</td>\n",
       "      <td>0.307185</td>\n",
       "    </tr>\n",
       "    <tr>\n",
       "      <th>KIM-BRX</th>\n",
       "      <td>Gumbel</td>\n",
       "      <td>3.48765</td>\n",
       "      <td>-621.368826</td>\n",
       "      <td>-617.44457</td>\n",
       "      <td>0.085422</td>\n",
       "    </tr>\n",
       "    <tr>\n",
       "      <th>PACW-FNB</th>\n",
       "      <td>Gaussian</td>\n",
       "      <td>0.892387</td>\n",
       "      <td>-607.811515</td>\n",
       "      <td>-603.88726</td>\n",
       "      <td>0.217961</td>\n",
       "    </tr>\n",
       "  </tbody>\n",
       "</table>\n",
       "</div>"
      ],
      "text/plain": [
       "              copula parameter          aic          bic KS_pvalue\n",
       "CENTA-CENT  Gaussian  0.966486 -1016.713382 -1012.789126   0.66109\n",
       "MTG-RDN       Gumbel  3.992679  -718.431293  -714.507038  0.524949\n",
       "CFR-BOKF    Gaussian  0.912532  -676.586878  -672.662623  0.361025\n",
       "HOMB-CATY     Gumbel  3.690078  -663.407379  -659.483123  0.405205\n",
       "CMA-ZION    Gaussian   0.90773   -658.74903  -654.824774  0.359609\n",
       "EWBC-ASB    Gaussian  0.899782  -631.174724  -627.250468  0.317748\n",
       "UMBF-FULT     Gumbel  3.570006  -638.695131  -634.770875  0.119134\n",
       "TDS-USM     Gaussian  0.893793  -612.089583  -608.165327  0.307185\n",
       "KIM-BRX       Gumbel   3.48765  -621.368826   -617.44457  0.085422\n",
       "PACW-FNB    Gaussian  0.892387  -607.811515   -603.88726  0.217961"
      ]
     },
     "execution_count": 18,
     "metadata": {},
     "output_type": "execute_result"
    }
   ],
   "source": [
    "copulas_df.head(10)"
   ]
  },
  {
   "cell_type": "code",
   "execution_count": 19,
   "id": "154dab74",
   "metadata": {},
   "outputs": [
    {
     "data": {
      "text/plain": [
       "array(['Gaussian', 'Gumbel'], dtype=object)"
      ]
     },
     "execution_count": 19,
     "metadata": {},
     "output_type": "execute_result"
    }
   ],
   "source": [
    "copulas_df['copula'].unique()"
   ]
  },
  {
   "cell_type": "code",
   "execution_count": 20,
   "id": "ddeda9e6",
   "metadata": {},
   "outputs": [
    {
     "data": {
      "text/html": [
       "<div>\n",
       "<style scoped>\n",
       "    .dataframe tbody tr th:only-of-type {\n",
       "        vertical-align: middle;\n",
       "    }\n",
       "\n",
       "    .dataframe tbody tr th {\n",
       "        vertical-align: top;\n",
       "    }\n",
       "\n",
       "    .dataframe thead th {\n",
       "        text-align: right;\n",
       "    }\n",
       "</style>\n",
       "<table border=\"1\" class=\"dataframe\">\n",
       "  <thead>\n",
       "    <tr style=\"text-align: right;\">\n",
       "      <th></th>\n",
       "      <th>copula</th>\n",
       "      <th>parameter</th>\n",
       "      <th>aic</th>\n",
       "      <th>bic</th>\n",
       "      <th>KS_pvalue</th>\n",
       "    </tr>\n",
       "  </thead>\n",
       "  <tbody>\n",
       "  </tbody>\n",
       "</table>\n",
       "</div>"
      ],
      "text/plain": [
       "Empty DataFrame\n",
       "Columns: [copula, parameter, aic, bic, KS_pvalue]\n",
       "Index: []"
      ]
     },
     "execution_count": 20,
     "metadata": {},
     "output_type": "execute_result"
    }
   ],
   "source": [
    "copulas_df[copulas_df['KS_pvalue']<0.05]"
   ]
  },
  {
   "cell_type": "code",
   "execution_count": 21,
   "id": "0ae5481c",
   "metadata": {},
   "outputs": [
    {
     "name": "stderr",
     "output_type": "stream",
     "text": [
      "/home/alex/work/blog/pairs_trading/copulas.py:28: RuntimeWarning: invalid value encountered in log\n",
      "  return np.log(self.pdf(u,v)).sum()\n"
     ]
    }
   ],
   "source": [
    "algo_returns = {}\n",
    "cl = 0.99 # confidence level\n",
    "\n",
    "for pair in selected_pairs:\n",
    "    s1,s2 = parse_pair(pair)\n",
    "\n",
    "    # fit marginals\n",
    "    params_s1 = stats.t.fit(returns_form[s1])\n",
    "    dist_s1 = stats.t(*params_s1)\n",
    "    params_s2 = stats.t.fit(returns_form[s2])\n",
    "    dist_s2 = stats.t(*params_s2)\n",
    "\n",
    "    # transform marginals\n",
    "    u = dist_s1.cdf(returns_form[s1])\n",
    "    v = dist_s2.cdf(returns_form[s2])\n",
    "        \n",
    "    # fit copula\n",
    "    best_aic = np.inf\n",
    "    best_copula = None\n",
    "\n",
    "    copulas = [GaussianCopula(), ClaytonCopula(), GumbelCopula(), FrankCopula(), JoeCopula()]\n",
    "    for copula in copulas:\n",
    "        copula.fit(u,v)\n",
    "        L = copula.log_likelihood(u,v)\n",
    "        aic = 2 * copula.num_params - 2 * L\n",
    "        if aic < best_aic:\n",
    "            best_aic = aic\n",
    "            best_copula = copula\n",
    "            \n",
    "    # calculate conditional probabilities\n",
    "    prob_s1 = []\n",
    "    prob_s2 = []\n",
    "\n",
    "    for u,v in zip(dist_s1.cdf(returns_trade[s1]), dist_s2.cdf(returns_trade[s2])):\n",
    "        prob_s1.append(best_copula.cdf_u_given_v(u,v))\n",
    "        prob_s2.append(best_copula.cdf_v_given_u(u,v))\n",
    "        \n",
    "    probs_trade = pd.DataFrame(np.vstack([prob_s1, prob_s2]).T, index=returns_trade.index, columns=[s1, s2])\n",
    "    \n",
    "    # calculate positions\n",
    "    positions = pd.DataFrame(index=probs_trade.index, columns=probs_trade.columns)\n",
    "    long = False\n",
    "    short = False\n",
    "\n",
    "    for t in positions.index:    \n",
    "        # if long position is open\n",
    "        if long:\n",
    "            if (probs_trade.loc[t][s1] > 0.5) or (probs_trade.loc[t][s2] < 0.5):\n",
    "                positions.loc[t] = [0,0]\n",
    "                long = False\n",
    "            else:\n",
    "                positions.loc[t] = [1,-1]\n",
    "\n",
    "        # if short position is open\n",
    "        elif short:\n",
    "            if (probs_trade.loc[t][s1] < 0.5) or (probs_trade.loc[t][s2] > 0.5):\n",
    "                positions.loc[t] = [0,0]\n",
    "                short = False\n",
    "            else:\n",
    "                positions.loc[t] = [-1,1]\n",
    "\n",
    "        # if no positions are open\n",
    "        else:\n",
    "            if (probs_trade.loc[t][s1] < (1-cl)) and (probs_trade.loc[t][s2] > cl):\n",
    "                # open long position\n",
    "                positions.loc[t] = [1,-1]\n",
    "                long = True\n",
    "            elif (probs_trade.loc[t][s1] > cl) and (probs_trade.loc[t][s2] < (1-cl)):\n",
    "                # open short positions\n",
    "                positions.loc[t] = [-1,1]\n",
    "                short = True\n",
    "            else:\n",
    "                positions.loc[t] = [0,0]\n",
    "                \n",
    "    # calculate returns\n",
    "    algo_ret = (returns_trade * positions.shift()).sum(axis=1)\n",
    "    algo_returns[pair] = algo_ret"
   ]
  },
  {
   "cell_type": "code",
   "execution_count": 22,
   "id": "e77b4753",
   "metadata": {},
   "outputs": [],
   "source": [
    "returns = pd.DataFrame.from_dict(algo_returns)\n",
    "returns = np.exp(returns) - 1 # convert log-returns to simple returns"
   ]
  },
  {
   "cell_type": "code",
   "execution_count": 23,
   "id": "1c6de59b",
   "metadata": {},
   "outputs": [],
   "source": [
    "total_ret = returns.sum(axis=1) / len(returns.columns) * 2 # double capital (from short positions)"
   ]
  },
  {
   "cell_type": "code",
   "execution_count": 24,
   "id": "ac4d9394",
   "metadata": {},
   "outputs": [
    {
     "name": "stdout",
     "output_type": "stream",
     "text": [
      "[*********************100%***********************]  1 of 1 completed\n"
     ]
    }
   ],
   "source": [
    "import yfinance as yf\n",
    "vbr_price = yf.download('VBR', start=trade_start, end=trade_end)\n",
    "vbr_price = vbr_price['Adj Close']\n",
    "vbr_ret = vbr_price.pct_change().dropna()"
   ]
  },
  {
   "cell_type": "code",
   "execution_count": 28,
   "id": "c8cc8432",
   "metadata": {},
   "outputs": [
    {
     "data": {
      "text/plain": [
       "<matplotlib.legend.Legend at 0x7f48ef6bd9d0>"
      ]
     },
     "execution_count": 28,
     "metadata": {},
     "output_type": "execute_result"
    },
    {
     "data": {
      "image/png": "[encoded data removed]",
      "text/plain": [
       "<Figure size 1296x432 with 1 Axes>"
      ]
     },
     "metadata": {},
     "output_type": "display_data"
    }
   ],
   "source": [
    "plt.figure(figsize=(18,6))\n",
    "plt.plot(np.nancumprod(total_ret + 1), label='algo')\n",
    "plt.plot(np.nancumprod(vbr_ret + 1), label='VBR')\n",
    "plt.legend()"
   ]
  },
  {
   "cell_type": "code",
   "execution_count": 33,
   "id": "7416f552",
   "metadata": {},
   "outputs": [],
   "source": [
    "def calculate_metrics(cumret):\n",
    "    '''\n",
    "    calculate performance metrics from cumulative returns\n",
    "    '''\n",
    "    total_return = (cumret[-1] - cumret[0])/cumret[0]\n",
    "    apr = (1+total_return)**(252/len(cumret)) - 1\n",
    "    rets = pd.DataFrame(cumret).pct_change()\n",
    "    sharpe = np.sqrt(252) * np.nanmean(rets) / np.nanstd(rets)\n",
    "    \n",
    "    # maxdd and maxddd\n",
    "    highwatermark=np.zeros(cumret.shape)\n",
    "    drawdown=np.zeros(cumret.shape)\n",
    "    drawdownduration=np.zeros(cumret.shape)\n",
    "    for t in np.arange(1, cumret.shape[0]):\n",
    "        highwatermark[t]=np.maximum(highwatermark[t-1], cumret[t])\n",
    "        drawdown[t]=cumret[t]/highwatermark[t]-1\n",
    "        if drawdown[t]==0:\n",
    "            drawdownduration[t]=0\n",
    "        else:\n",
    "            drawdownduration[t]=drawdownduration[t-1]+1\n",
    "    maxDD=np.min(drawdown)\n",
    "    maxDDD=np.max(drawdownduration)\n",
    "    \n",
    "    return total_return, apr, sharpe, maxDD, maxDDD"
   ]
  },
  {
   "cell_type": "code",
   "execution_count": 42,
   "id": "c5c0c01f",
   "metadata": {},
   "outputs": [
    {
     "data": {
      "text/html": [
       "<div>\n",
       "<style scoped>\n",
       "    .dataframe tbody tr th:only-of-type {\n",
       "        vertical-align: middle;\n",
       "    }\n",
       "\n",
       "    .dataframe tbody tr th {\n",
       "        vertical-align: top;\n",
       "    }\n",
       "\n",
       "    .dataframe thead th {\n",
       "        text-align: right;\n",
       "    }\n",
       "</style>\n",
       "<table border=\"1\" class=\"dataframe\">\n",
       "  <thead>\n",
       "    <tr style=\"text-align: right;\">\n",
       "      <th></th>\n",
       "      <th>Total return</th>\n",
       "      <th>APR</th>\n",
       "      <th>Sharpe</th>\n",
       "      <th>MaxDD</th>\n",
       "      <th>MaxDDD</th>\n",
       "    </tr>\n",
       "  </thead>\n",
       "  <tbody>\n",
       "    <tr>\n",
       "      <th>Algo</th>\n",
       "      <td>0.0209</td>\n",
       "      <td>0.041235</td>\n",
       "      <td>2.310103</td>\n",
       "      <td>-0.004165</td>\n",
       "      <td>35.0</td>\n",
       "    </tr>\n",
       "    <tr>\n",
       "      <th>VBR</th>\n",
       "      <td>0.069689</td>\n",
       "      <td>0.143021</td>\n",
       "      <td>0.867726</td>\n",
       "      <td>-0.096744</td>\n",
       "      <td>96.0</td>\n",
       "    </tr>\n",
       "  </tbody>\n",
       "</table>\n",
       "</div>"
      ],
      "text/plain": [
       "     Total return       APR    Sharpe     MaxDD MaxDDD\n",
       "Algo       0.0209  0.041235  2.310103 -0.004165   35.0\n",
       "VBR      0.069689  0.143021  0.867726 -0.096744   96.0"
      ]
     },
     "execution_count": 42,
     "metadata": {},
     "output_type": "execute_result"
    }
   ],
   "source": [
    "metrics = pd.DataFrame(index=['Algo', 'VBR'], columns=['Total return', 'APR', 'Sharpe', 'MaxDD', 'MaxDDD'])\n",
    "metrics.loc['Algo'] = calculate_metrics(np.nancumprod(total_ret + 1))\n",
    "metrics.loc['VBR'] = calculate_metrics(np.nancumprod(vbr_ret + 1))\n",
    "metrics"
   ]
  },
  {
   "cell_type": "markdown",
   "id": "8f8782d4",
   "metadata": {},
   "source": [
    "# Exit earlier"
   ]
  },
  {
   "cell_type": "code",
   "execution_count": 53,
   "id": "5a2332c8",
   "metadata": {},
   "outputs": [
    {
     "name": "stderr",
     "output_type": "stream",
     "text": [
      "/home/alex/work/blog/pairs_trading/copulas.py:28: RuntimeWarning: invalid value encountered in log\n",
      "  return np.log(self.pdf(u,v)).sum()\n"
     ]
    }
   ],
   "source": [
    "algo_returns = {}\n",
    "cl = 0.99 # confidence level\n",
    "\n",
    "for pair in selected_pairs:\n",
    "    s1,s2 = parse_pair(pair)\n",
    "\n",
    "    # fit marginals\n",
    "    params_s1 = stats.t.fit(returns_form[s1])\n",
    "    dist_s1 = stats.t(*params_s1)\n",
    "    params_s2 = stats.t.fit(returns_form[s2])\n",
    "    dist_s2 = stats.t(*params_s2)\n",
    "\n",
    "    # transform marginals\n",
    "    u = dist_s1.cdf(returns_form[s1])\n",
    "    v = dist_s2.cdf(returns_form[s2])\n",
    "        \n",
    "    # fit copula\n",
    "    best_aic = np.inf\n",
    "    best_copula = None\n",
    "\n",
    "    copulas = [GaussianCopula(), ClaytonCopula(), GumbelCopula(), FrankCopula(), JoeCopula()]\n",
    "    for copula in copulas:\n",
    "        copula.fit(u,v)\n",
    "        L = copula.log_likelihood(u,v)\n",
    "        aic = 2 * copula.num_params - 2 * L\n",
    "        if aic < best_aic:\n",
    "            best_aic = aic\n",
    "            best_copula = copula\n",
    "            \n",
    "    # calculate conditional probabilities\n",
    "    prob_s1 = []\n",
    "    prob_s2 = []\n",
    "\n",
    "    for u,v in zip(dist_s1.cdf(returns_trade[s1]), dist_s2.cdf(returns_trade[s2])):\n",
    "        prob_s1.append(best_copula.cdf_u_given_v(u,v))\n",
    "        prob_s2.append(best_copula.cdf_v_given_u(u,v))\n",
    "        \n",
    "    probs_trade = pd.DataFrame(np.vstack([prob_s1, prob_s2]).T, index=returns_trade.index, columns=[s1, s2])\n",
    "    \n",
    "    # calculate positions\n",
    "    positions = pd.DataFrame(index=probs_trade.index, columns=probs_trade.columns)\n",
    "    long = False\n",
    "    short = False\n",
    "\n",
    "    for t in positions.index:    \n",
    "        # if long position is open\n",
    "        if long:\n",
    "            if (probs_trade.loc[t][s1] > 0.3) or (probs_trade.loc[t][s2] < 0.7):\n",
    "                positions.loc[t] = [0,0]\n",
    "                long = False\n",
    "            else:\n",
    "                positions.loc[t] = [1,-1]\n",
    "\n",
    "        # if short position is open\n",
    "        elif short:\n",
    "            if (probs_trade.loc[t][s1] < 0.7) or (probs_trade.loc[t][s2] > 0.3):\n",
    "                positions.loc[t] = [0,0]\n",
    "                short = False\n",
    "            else:\n",
    "                positions.loc[t] = [-1,1]\n",
    "\n",
    "        # if no positions are open\n",
    "        else:\n",
    "            if (probs_trade.loc[t][s1] < (1-cl)) and (probs_trade.loc[t][s2] > cl):\n",
    "                # open long position\n",
    "                positions.loc[t] = [1,-1]\n",
    "                long = True\n",
    "            elif (probs_trade.loc[t][s1] > cl) and (probs_trade.loc[t][s2] < (1-cl)):\n",
    "                # open short positions\n",
    "                positions.loc[t] = [-1,1]\n",
    "                short = True\n",
    "            else:\n",
    "                positions.loc[t] = [0,0]\n",
    "                \n",
    "    # calculate returns\n",
    "    algo_ret = (returns_trade * positions.shift()).sum(axis=1)\n",
    "    algo_returns[pair] = algo_ret"
   ]
  },
  {
   "cell_type": "code",
   "execution_count": 54,
   "id": "c95bc945",
   "metadata": {},
   "outputs": [],
   "source": [
    "returns = pd.DataFrame.from_dict(algo_returns)\n",
    "returns = np.exp(returns) - 1 # convert log-returns to simple returns"
   ]
  },
  {
   "cell_type": "code",
   "execution_count": 55,
   "id": "365f503e",
   "metadata": {},
   "outputs": [],
   "source": [
    "total_ret = returns.sum(axis=1) / len(returns.columns) * 2 # double capital (from short positions)"
   ]
  },
  {
   "cell_type": "code",
   "execution_count": 56,
   "id": "4d73efdc",
   "metadata": {},
   "outputs": [
    {
     "data": {
      "text/plain": [
       "<matplotlib.legend.Legend at 0x7f48f9655df0>"
      ]
     },
     "execution_count": 56,
     "metadata": {},
     "output_type": "execute_result"
    },
    {
     "data": {
      "image/png": "[encoded data removed]",
      "text/plain": [
       "<Figure size 1296x432 with 1 Axes>"
      ]
     },
     "metadata": {},
     "output_type": "display_data"
    }
   ],
   "source": [
    "plt.figure(figsize=(18,6))\n",
    "plt.plot(np.nancumprod(total_ret + 1), label='algo')\n",
    "plt.plot(np.nancumprod(vbr_ret + 1), label='VBR')\n",
    "plt.legend()"
   ]
  },
  {
   "cell_type": "code",
   "execution_count": 57,
   "id": "d011b9fd",
   "metadata": {},
   "outputs": [
    {
     "data": {
      "text/html": [
       "<div>\n",
       "<style scoped>\n",
       "    .dataframe tbody tr th:only-of-type {\n",
       "        vertical-align: middle;\n",
       "    }\n",
       "\n",
       "    .dataframe tbody tr th {\n",
       "        vertical-align: top;\n",
       "    }\n",
       "\n",
       "    .dataframe thead th {\n",
       "        text-align: right;\n",
       "    }\n",
       "</style>\n",
       "<table border=\"1\" class=\"dataframe\">\n",
       "  <thead>\n",
       "    <tr style=\"text-align: right;\">\n",
       "      <th></th>\n",
       "      <th>Total return</th>\n",
       "      <th>APR</th>\n",
       "      <th>Sharpe</th>\n",
       "      <th>MaxDD</th>\n",
       "      <th>MaxDDD</th>\n",
       "    </tr>\n",
       "  </thead>\n",
       "  <tbody>\n",
       "    <tr>\n",
       "      <th>Algo</th>\n",
       "      <td>0.024795</td>\n",
       "      <td>0.049009</td>\n",
       "      <td>2.75403</td>\n",
       "      <td>-0.004165</td>\n",
       "      <td>33.0</td>\n",
       "    </tr>\n",
       "    <tr>\n",
       "      <th>VBR</th>\n",
       "      <td>0.069689</td>\n",
       "      <td>0.143021</td>\n",
       "      <td>0.867726</td>\n",
       "      <td>-0.096744</td>\n",
       "      <td>96.0</td>\n",
       "    </tr>\n",
       "  </tbody>\n",
       "</table>\n",
       "</div>"
      ],
      "text/plain": [
       "     Total return       APR    Sharpe     MaxDD MaxDDD\n",
       "Algo     0.024795  0.049009   2.75403 -0.004165   33.0\n",
       "VBR      0.069689  0.143021  0.867726 -0.096744   96.0"
      ]
     },
     "execution_count": 57,
     "metadata": {},
     "output_type": "execute_result"
    }
   ],
   "source": [
    "metrics = pd.DataFrame(index=['Algo', 'VBR'], columns=['Total return', 'APR', 'Sharpe', 'MaxDD', 'MaxDDD'])\n",
    "metrics.loc['Algo'] = calculate_metrics(np.nancumprod(total_ret + 1))\n",
    "metrics.loc['VBR'] = calculate_metrics(np.nancumprod(vbr_ret + 1))\n",
    "metrics"
   ]
  },
  {
   "cell_type": "code",
   "execution_count": null,
   "id": "218f8c5f",
   "metadata": {},
   "outputs": [],
   "source": []
  }
 ],
 "metadata": {
  "kernelspec": {
   "display_name": "Python 3 (ipykernel)",
   "language": "python",
   "name": "python3"
  },
  "language_info": {
   "codemirror_mode": {
    "name": "ipython",
    "version": 3
   },
   "file_extension": ".py",
   "mimetype": "text/x-python",
   "name": "python",
   "nbconvert_exporter": "python",
   "pygments_lexer": "ipython3",
   "version": "3.8.12"
  }
 },
 "nbformat": 4,
 "nbformat_minor": 5
}
