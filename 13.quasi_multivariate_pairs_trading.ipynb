{
 "cells": [
  {
   "cell_type": "code",
   "execution_count": 1,
   "id": "bc8c4ed5",
   "metadata": {},
   "outputs": [],
   "source": [
    "import pandas as pd\n",
    "import numpy as np\n",
    "import matplotlib.pyplot as plt\n",
    "import seaborn as sns"
   ]
  },
  {
   "cell_type": "code",
   "execution_count": 2,
   "id": "455041d6",
   "metadata": {},
   "outputs": [],
   "source": [
    "# set theme\n",
    "plt.style.use('seaborn')\n",
    "sns.set_style('darkgrid')"
   ]
  },
  {
   "cell_type": "code",
   "execution_count": 3,
   "id": "5b93efa6",
   "metadata": {},
   "outputs": [],
   "source": [
    "prices = pd.read_csv('qm_0306.csv', index_col=0)\n",
    "stocks = prices.columns"
   ]
  },
  {
   "cell_type": "code",
   "execution_count": 4,
   "id": "3b10c3ca",
   "metadata": {},
   "outputs": [],
   "source": [
    "prices_form = prices.loc['2003-01-01':'2004-12-31']\n",
    "prices_trade = prices.loc['2005-01-01':]\n",
    "returns_trade = prices_trade.pct_change().dropna()"
   ]
  },
  {
   "cell_type": "code",
   "execution_count": 5,
   "id": "98efae1a",
   "metadata": {},
   "outputs": [],
   "source": [
    "prices_form_norm = (prices_form - prices_form.mean()) / prices_form.std() # normalized prices"
   ]
  },
  {
   "cell_type": "markdown",
   "id": "38e95038",
   "metadata": {},
   "source": [
    "# Check that highest correlation is the same as minimized SSD"
   ]
  },
  {
   "cell_type": "code",
   "execution_count": 6,
   "id": "914f9b6e",
   "metadata": {},
   "outputs": [
    {
     "data": {
      "text/plain": [
       "Index(['TPR', 'M', 'JNPR', 'JWN', 'FL'], dtype='object')"
      ]
     },
     "execution_count": 6,
     "metadata": {},
     "output_type": "execute_result"
    }
   ],
   "source": [
    "s1 = prices_form_norm.corr().loc['TRN'].sort_values().index[:-1] # stocks selected correlation\n",
    "s1[-5:]"
   ]
  },
  {
   "cell_type": "code",
   "execution_count": 7,
   "id": "875c2a57",
   "metadata": {},
   "outputs": [],
   "source": [
    "results = {}\n",
    "\n",
    "# calculate SSD of all stocks with TRN stock\n",
    "for stock in stocks[1:]:\n",
    "    spread = prices_form_norm['TRN'] - prices_form_norm[stock]\n",
    "    ssd = np.sum(np.square(spread))\n",
    "    results[stock] = ssd"
   ]
  },
  {
   "cell_type": "code",
   "execution_count": 8,
   "id": "5a2c9229",
   "metadata": {},
   "outputs": [
    {
     "data": {
      "text/plain": [
       "Index(['TPR', 'M', 'JNPR', 'JWN', 'FL'], dtype='object')"
      ]
     },
     "execution_count": 8,
     "metadata": {},
     "output_type": "execute_result"
    }
   ],
   "source": [
    "s2 = pd.DataFrame.from_dict(results, orient='index').sort_values(by=0).index[::-1] # stocks selected SSD\n",
    "s2[-5:]"
   ]
  },
  {
   "cell_type": "code",
   "execution_count": 9,
   "id": "76636c9e",
   "metadata": {
    "scrolled": true
   },
   "outputs": [
    {
     "data": {
      "text/plain": [
       "0"
      ]
     },
     "execution_count": 9,
     "metadata": {},
     "output_type": "execute_result"
    }
   ],
   "source": [
    "(s1 != s2).sum()"
   ]
  },
  {
   "cell_type": "markdown",
   "id": "98f022e3",
   "metadata": {},
   "source": [
    "# Trading strategy"
   ]
  },
  {
   "cell_type": "code",
   "execution_count": 10,
   "id": "03c4ce14",
   "metadata": {},
   "outputs": [],
   "source": [
    "def calculate_metrics(cumret):\n",
    "    '''\n",
    "    calculate performance metrics from cumulative returns\n",
    "    '''\n",
    "    total_return = (cumret[-1] - cumret[0])/cumret[0]\n",
    "    apr = (1+total_return)**(252/len(cumret)) - 1\n",
    "    rets = pd.DataFrame(cumret).pct_change()\n",
    "    sharpe = np.sqrt(252) * np.nanmean(rets) / np.nanstd(rets)\n",
    "    \n",
    "    # maxdd and maxddd\n",
    "    highwatermark=np.zeros(cumret.shape)\n",
    "    drawdown=np.zeros(cumret.shape)\n",
    "    drawdownduration=np.zeros(cumret.shape)\n",
    "    for t in np.arange(1, cumret.shape[0]):\n",
    "        highwatermark[t]=np.maximum(highwatermark[t-1], cumret[t])\n",
    "        drawdown[t]=cumret[t]/highwatermark[t]-1\n",
    "        if drawdown[t]==0:\n",
    "            drawdownduration[t]=0\n",
    "        else:\n",
    "            drawdownduration[t]=drawdownduration[t-1]+1\n",
    "    maxDD=np.min(drawdown)\n",
    "    maxDDD=np.max(drawdownduration)\n",
    "    \n",
    "    return total_return, apr, sharpe, maxDD, maxDDD"
   ]
  },
  {
   "cell_type": "code",
   "execution_count": 11,
   "id": "e900586e",
   "metadata": {},
   "outputs": [],
   "source": [
    "d = 1.9 # position threshold\n",
    "m = 5 # number of stocks in portfolio"
   ]
  },
  {
   "cell_type": "markdown",
   "id": "99f60a44",
   "metadata": {},
   "source": [
    "## OLS weighting"
   ]
  },
  {
   "cell_type": "code",
   "execution_count": 12,
   "id": "a2f10e47",
   "metadata": {},
   "outputs": [],
   "source": [
    "import statsmodels.api as sm\n",
    "\n",
    "positions = pd.DataFrame(index=prices_trade.index, columns=stocks)\n",
    "\n",
    "for s1 in stocks:\n",
    "    n_days = 0\n",
    "    spread = pd.Series(index=prices_trade.index, dtype='float64')\n",
    "\n",
    "    for t in prices_trade.index:\n",
    "        prices_tmp = prices.loc[:t].iloc[-494:] # trailing window\n",
    "        mu = prices_tmp.mean()\n",
    "        sigma = prices_tmp.std()\n",
    "        prices_tmp_norm = (prices_tmp - mu) / sigma # normalize prices\n",
    "        if (n_days % 10) == 0:\n",
    "            # update portfolio stocks\n",
    "            pfs = prices_tmp_norm.corr()[s1].sort_values().index[-(m+1):-1] # exclude last one because it is s1\n",
    "            # update portfolio weights\n",
    "            model = sm.OLS(prices_tmp_norm[s1], prices_tmp_norm[pfs])\n",
    "            res = model.fit()\n",
    "            pfw = res.params # OLS weighting\n",
    "\n",
    "        spread.loc[t] = prices_tmp_norm.loc[t][s1] - (pfw * prices_tmp_norm.loc[t][pfs]).sum()\n",
    "        n_days += 1\n",
    "\n",
    "        if spread.loc[t] >= d:\n",
    "            positions[s1].loc[t] = -1 # short position\n",
    "        elif spread.loc[t] <= -d:\n",
    "            positions[s1].loc[t] = 1 # long position\n",
    "        else:\n",
    "            positions[s1].loc[t] = 0"
   ]
  },
  {
   "cell_type": "code",
   "execution_count": 13,
   "id": "92eed5b8",
   "metadata": {},
   "outputs": [],
   "source": [
    "cumret_ols = np.nancumprod((positions.shift().dropna() * returns_trade).sum(axis=1) \n",
    "                           / len(returns_trade.columns) + 1)"
   ]
  },
  {
   "cell_type": "code",
   "execution_count": 14,
   "id": "27d03fd2",
   "metadata": {},
   "outputs": [
    {
     "data": {
      "text/plain": [
       "<matplotlib.legend.Legend at 0x7f945e2d6370>"
      ]
     },
     "execution_count": 14,
     "metadata": {},
     "output_type": "execute_result"
    },
    {
     "data": {
      "image/png": "[encoded data removed]",
      "text/plain": [
       "<Figure size 1296x288 with 1 Axes>"
      ]
     },
     "metadata": {},
     "output_type": "display_data"
    }
   ],
   "source": [
    "plt.figure(figsize=(18,4))\n",
    "plt.plot(cumret_ols, label='Algo (OLS weighting)')\n",
    "plt.legend()"
   ]
  },
  {
   "cell_type": "code",
   "execution_count": 15,
   "id": "b5386041",
   "metadata": {},
   "outputs": [
    {
     "data": {
      "text/plain": [
       "160"
      ]
     },
     "execution_count": 15,
     "metadata": {},
     "output_type": "execute_result"
    }
   ],
   "source": [
    "abs(positions).sum().sum()"
   ]
  },
  {
   "cell_type": "code",
   "execution_count": 16,
   "id": "d1a21925",
   "metadata": {},
   "outputs": [],
   "source": [
    "# limit the total number of positions on any given day to three\n",
    "positions_3p = positions.copy()\n",
    "positions_3p[abs(positions_3p).cumsum(axis=1)>3] = 0"
   ]
  },
  {
   "cell_type": "code",
   "execution_count": 17,
   "id": "15b2fc15",
   "metadata": {},
   "outputs": [],
   "source": [
    "cumret_ols_3p = np.nancumprod((positions_3p.shift().dropna() * returns_trade).sum(axis=1) / 3 + 1)"
   ]
  },
  {
   "cell_type": "code",
   "execution_count": 18,
   "id": "7f6178d3",
   "metadata": {},
   "outputs": [
    {
     "data": {
      "text/plain": [
       "<matplotlib.legend.Legend at 0x7f9458352d90>"
      ]
     },
     "execution_count": 18,
     "metadata": {},
     "output_type": "execute_result"
    },
    {
     "data": {
      "image/png": "[encoded data removed]",
      "text/plain": [
       "<Figure size 1296x288 with 1 Axes>"
      ]
     },
     "metadata": {},
     "output_type": "display_data"
    }
   ],
   "source": [
    "plt.figure(figsize=(18,4))\n",
    "plt.plot(cumret_ols_3p, label='Algo (OLS weighting), max 3 pos')\n",
    "plt.legend()"
   ]
  },
  {
   "cell_type": "code",
   "execution_count": 19,
   "id": "e6abe11e",
   "metadata": {},
   "outputs": [],
   "source": [
    "import random\n",
    "\n",
    "def shuffle_positions(positions_df):\n",
    "    \n",
    "    positions = positions_df.copy().values\n",
    "    \n",
    "    # shuffle positions within each column\n",
    "    for col in range(positions.shape[1]):\n",
    "        split =  np.split(positions[:,col], np.where((np.diff(positions[:,col]) != 0))[0]+1)\n",
    "        pos = [x for x in split if x[0]!=0] # all non-zero positions\n",
    "        pos_length = sum([len(x) for x in pos]) # total length in days\n",
    "        zero_length = len(positions[:,col]) - pos_length\n",
    "        pos += np.split(np.array([0]*zero_length), np.arange(1,zero_length))\n",
    "        random.shuffle(pos)\n",
    "        pos = np.concatenate(pos).astype(int)\n",
    "        positions[:,col] = pos\n",
    "    # shuffle columns\n",
    "    np.random.shuffle(np.transpose(positions))\n",
    "    \n",
    "    shuffled_df = pd.DataFrame(positions, index=positions_df.index, columns=positions_df.columns)\n",
    "    \n",
    "    return shuffled_df"
   ]
  },
  {
   "cell_type": "code",
   "execution_count": 20,
   "id": "e04bfe7a",
   "metadata": {},
   "outputs": [],
   "source": [
    "bootstrap_trs = [] # total returns\n",
    "\n",
    "for N in range(5000):\n",
    "    positions_bootstrap = shuffle_positions(positions)\n",
    "    cumret_bootstrap = np.nancumprod((positions_bootstrap.shift().dropna() * returns_trade).sum(axis=1) \n",
    "                                / len(returns_trade.columns) + 1)\n",
    "    bootstrap_trs.append(calculate_metrics(cumret_bootstrap)[0]) # save total return\n",
    "    \n",
    "bootstrap_trs = np.array(bootstrap_trs)"
   ]
  },
  {
   "cell_type": "code",
   "execution_count": 21,
   "id": "0b1e872c",
   "metadata": {},
   "outputs": [],
   "source": [
    "results_df = pd.DataFrame(columns=['Total return', 'APR', 'Sharpe', \n",
    "                                   'maxDD', 'maxDDD', '% random portfolios beaten'])\n",
    "total_return, apr, sharpe, maxDD, maxDDD = calculate_metrics(cumret_ols)\n",
    "pct_beaten = 100 * (1 - len(bootstrap_trs[bootstrap_trs>total_return]) / len(bootstrap_trs))\n",
    "results_df.loc['Algo (OLS weighting)'] = total_return, apr, sharpe, maxDD, maxDDD, pct_beaten"
   ]
  },
  {
   "cell_type": "code",
   "execution_count": 22,
   "id": "38f3c88f",
   "metadata": {},
   "outputs": [
    {
     "data": {
      "text/html": [
       "<div>\n",
       "<style scoped>\n",
       "    .dataframe tbody tr th:only-of-type {\n",
       "        vertical-align: middle;\n",
       "    }\n",
       "\n",
       "    .dataframe tbody tr th {\n",
       "        vertical-align: top;\n",
       "    }\n",
       "\n",
       "    .dataframe thead th {\n",
       "        text-align: right;\n",
       "    }\n",
       "</style>\n",
       "<table border=\"1\" class=\"dataframe\">\n",
       "  <thead>\n",
       "    <tr style=\"text-align: right;\">\n",
       "      <th></th>\n",
       "      <th>Total return</th>\n",
       "      <th>APR</th>\n",
       "      <th>Sharpe</th>\n",
       "      <th>maxDD</th>\n",
       "      <th>maxDDD</th>\n",
       "      <th>% random portfolios beaten</th>\n",
       "    </tr>\n",
       "  </thead>\n",
       "  <tbody>\n",
       "    <tr>\n",
       "      <th>Algo (OLS weighting)</th>\n",
       "      <td>0.007449</td>\n",
       "      <td>0.007479</td>\n",
       "      <td>1.071336</td>\n",
       "      <td>-0.004149</td>\n",
       "      <td>102.0</td>\n",
       "      <td>99.42</td>\n",
       "    </tr>\n",
       "  </tbody>\n",
       "</table>\n",
       "</div>"
      ],
      "text/plain": [
       "                      Total return       APR    Sharpe     maxDD  maxDDD  \\\n",
       "Algo (OLS weighting)      0.007449  0.007479  1.071336 -0.004149   102.0   \n",
       "\n",
       "                      % random portfolios beaten  \n",
       "Algo (OLS weighting)                       99.42  "
      ]
     },
     "execution_count": 22,
     "metadata": {},
     "output_type": "execute_result"
    }
   ],
   "source": [
    "results_df"
   ]
  },
  {
   "cell_type": "code",
   "execution_count": 23,
   "id": "bf4f6f7c",
   "metadata": {},
   "outputs": [],
   "source": [
    "# repeat for the version with 3 positions\n",
    "bootstrap_trs = [] # total returns\n",
    "\n",
    "for N in range(5000):\n",
    "    positions_bootstrap = shuffle_positions(positions_3p)\n",
    "    cumret_bootstrap = np.nancumprod((positions_bootstrap.shift().dropna() * returns_trade).sum(axis=1) \n",
    "                                / 3 + 1)\n",
    "    bootstrap_trs.append(calculate_metrics(cumret_bootstrap)[0])\n",
    "    \n",
    "bootstrap_trs = np.array(bootstrap_trs)"
   ]
  },
  {
   "cell_type": "code",
   "execution_count": 24,
   "id": "80a936b7",
   "metadata": {},
   "outputs": [],
   "source": [
    "total_return, apr, sharpe, maxDD, maxDDD = calculate_metrics(cumret_ols_3p)\n",
    "pct_beaten = 100 * (1 - len(bootstrap_trs[bootstrap_trs>total_return]) / len(bootstrap_trs))\n",
    "results_df.loc['Algo (OLS weighting) 3 pos'] = total_return, apr, sharpe, maxDD, maxDDD, pct_beaten"
   ]
  },
  {
   "cell_type": "code",
   "execution_count": 25,
   "id": "2ebe1da2",
   "metadata": {},
   "outputs": [
    {
     "data": {
      "text/html": [
       "<div>\n",
       "<style scoped>\n",
       "    .dataframe tbody tr th:only-of-type {\n",
       "        vertical-align: middle;\n",
       "    }\n",
       "\n",
       "    .dataframe tbody tr th {\n",
       "        vertical-align: top;\n",
       "    }\n",
       "\n",
       "    .dataframe thead th {\n",
       "        text-align: right;\n",
       "    }\n",
       "</style>\n",
       "<table border=\"1\" class=\"dataframe\">\n",
       "  <thead>\n",
       "    <tr style=\"text-align: right;\">\n",
       "      <th></th>\n",
       "      <th>Total return</th>\n",
       "      <th>APR</th>\n",
       "      <th>Sharpe</th>\n",
       "      <th>maxDD</th>\n",
       "      <th>maxDDD</th>\n",
       "      <th>% random portfolios beaten</th>\n",
       "    </tr>\n",
       "  </thead>\n",
       "  <tbody>\n",
       "    <tr>\n",
       "      <th>Algo (OLS weighting)</th>\n",
       "      <td>0.007449</td>\n",
       "      <td>0.007479</td>\n",
       "      <td>1.071336</td>\n",
       "      <td>-0.004149</td>\n",
       "      <td>102.0</td>\n",
       "      <td>99.42</td>\n",
       "    </tr>\n",
       "    <tr>\n",
       "      <th>Algo (OLS weighting) 3 pos</th>\n",
       "      <td>0.269952</td>\n",
       "      <td>0.271161</td>\n",
       "      <td>1.132143</td>\n",
       "      <td>-0.135217</td>\n",
       "      <td>102.0</td>\n",
       "      <td>99.58</td>\n",
       "    </tr>\n",
       "  </tbody>\n",
       "</table>\n",
       "</div>"
      ],
      "text/plain": [
       "                            Total return       APR    Sharpe     maxDD  \\\n",
       "Algo (OLS weighting)            0.007449  0.007479  1.071336 -0.004149   \n",
       "Algo (OLS weighting) 3 pos      0.269952  0.271161  1.132143 -0.135217   \n",
       "\n",
       "                            maxDDD  % random portfolios beaten  \n",
       "Algo (OLS weighting)         102.0                       99.42  \n",
       "Algo (OLS weighting) 3 pos   102.0                       99.58  "
      ]
     },
     "execution_count": 25,
     "metadata": {},
     "output_type": "execute_result"
    }
   ],
   "source": [
    "results_df"
   ]
  },
  {
   "cell_type": "code",
   "execution_count": 26,
   "id": "2c507162",
   "metadata": {},
   "outputs": [
    {
     "data": {
      "text/plain": [
       "<matplotlib.lines.Line2D at 0x7f945819f460>"
      ]
     },
     "execution_count": 26,
     "metadata": {},
     "output_type": "execute_result"
    },
    {
     "data": {
      "image/png": "[encoded data removed]",
      "text/plain": [
       "<Figure size 576x396 with 1 Axes>"
      ]
     },
     "metadata": {},
     "output_type": "display_data"
    }
   ],
   "source": [
    "_ = plt.hist(bootstrap_trs, bins=100)\n",
    "plt.axvline(x=total_return, c='r')"
   ]
  },
  {
   "cell_type": "markdown",
   "id": "78cb4335",
   "metadata": {},
   "source": [
    "## equal weighting"
   ]
  },
  {
   "cell_type": "code",
   "execution_count": 27,
   "id": "be9e6fef",
   "metadata": {},
   "outputs": [],
   "source": [
    "positions = pd.DataFrame(index=prices_trade.index, columns=stocks)\n",
    "\n",
    "for s1 in stocks:\n",
    "    n_days = 0\n",
    "    spread = pd.Series(index=prices_trade.index, dtype='float64')\n",
    "\n",
    "    for t in prices_trade.index:\n",
    "        prices_tmp = prices.loc[:t].iloc[-494:] # trailing window\n",
    "        mu = prices_tmp.mean()\n",
    "        sigma = prices_tmp.std()\n",
    "        prices_tmp_norm = (prices_tmp - mu) / sigma # normalize prices\n",
    "        if (n_days % 10) == 0:\n",
    "            # update pair portfolio stocks\n",
    "            pfs = prices_tmp_norm.corr()[s1].sort_values().index[-(m+1):-1] # exclude last one because it is s1\n",
    "            # update pair portfolio weights\n",
    "            pfw = 1/len(pfs) # equal weighting\n",
    "\n",
    "        spread.loc[t] = prices_tmp_norm.loc[t][s1] - (pfw * prices_tmp_norm.loc[t][pfs]).sum()\n",
    "        n_days += 1\n",
    "\n",
    "        if spread.loc[t] >= d:\n",
    "            positions[s1].loc[t] = -1\n",
    "        elif spread.loc[t] <= -d:\n",
    "            positions[s1].loc[t] = 1\n",
    "        else:\n",
    "            positions[s1].loc[t] = 0"
   ]
  },
  {
   "cell_type": "code",
   "execution_count": 28,
   "id": "f24e376e",
   "metadata": {},
   "outputs": [],
   "source": [
    "cumret_equal = np.nancumprod((positions.shift().dropna() * returns_trade).sum(axis=1) \n",
    "                             / len(returns_trade.columns) + 1)"
   ]
  },
  {
   "cell_type": "code",
   "execution_count": 29,
   "id": "165e8146",
   "metadata": {},
   "outputs": [
    {
     "data": {
      "text/plain": [
       "<matplotlib.legend.Legend at 0x7f945839d3d0>"
      ]
     },
     "execution_count": 29,
     "metadata": {},
     "output_type": "execute_result"
    },
    {
     "data": {
      "image/png": "[encoded data removed]",
      "text/plain": [
       "<Figure size 1296x288 with 1 Axes>"
      ]
     },
     "metadata": {},
     "output_type": "display_data"
    }
   ],
   "source": [
    "plt.figure(figsize=(18,4))\n",
    "plt.plot(cumret_equal, label='Algo (equal weighting)')\n",
    "plt.legend()"
   ]
  },
  {
   "cell_type": "code",
   "execution_count": 30,
   "id": "793448e6",
   "metadata": {},
   "outputs": [
    {
     "data": {
      "text/plain": [
       "269"
      ]
     },
     "execution_count": 30,
     "metadata": {},
     "output_type": "execute_result"
    }
   ],
   "source": [
    "abs(positions).sum().sum()"
   ]
  },
  {
   "cell_type": "code",
   "execution_count": 31,
   "id": "d8b00386",
   "metadata": {},
   "outputs": [
    {
     "data": {
      "text/plain": [
       "<matplotlib.legend.Legend at 0x7f9458076cd0>"
      ]
     },
     "execution_count": 31,
     "metadata": {},
     "output_type": "execute_result"
    },
    {
     "data": {
      "image/png": "[encoded data removed]",
      "text/plain": [
       "<Figure size 1296x288 with 1 Axes>"
      ]
     },
     "metadata": {},
     "output_type": "display_data"
    }
   ],
   "source": [
    "# limit the total number of positions on any given day to three\n",
    "positions_3p = positions.copy()\n",
    "positions_3p[abs(positions_3p).cumsum(axis=1)>3] = 0\n",
    "cumret_equal_3p = np.nancumprod((positions_3p.shift().dropna() * returns_trade).sum(axis=1) / 3 + 1)\n",
    "plt.figure(figsize=(18,4))\n",
    "plt.plot(cumret_equal_3p, label='Algo (equal weighting), max 3 pos')\n",
    "plt.legend()"
   ]
  },
  {
   "cell_type": "code",
   "execution_count": 32,
   "id": "bd43aa53",
   "metadata": {},
   "outputs": [],
   "source": [
    "bootstrap_trs = [] # total returns\n",
    "\n",
    "for N in range(5000):\n",
    "    positions_bootstrap = shuffle_positions(positions)\n",
    "    cumret_bootstrap = np.nancumprod((positions_bootstrap.shift().dropna() * returns_trade).sum(axis=1) \n",
    "                                / len(returns_trade.columns) + 1)\n",
    "    bootstrap_trs.append(calculate_metrics(cumret_bootstrap)[0]) # save total return\n",
    "    \n",
    "bootstrap_trs = np.array(bootstrap_trs)"
   ]
  },
  {
   "cell_type": "code",
   "execution_count": 33,
   "id": "52eb21b1",
   "metadata": {},
   "outputs": [],
   "source": [
    "total_return, apr, sharpe, maxDD, maxDDD = calculate_metrics(cumret_equal)\n",
    "pct_beaten = 100 * (1 - len(bootstrap_trs[bootstrap_trs>total_return]) / len(bootstrap_trs))\n",
    "results_df.loc['Algo (equal weighting)'] = total_return, apr, sharpe, maxDD, maxDDD, pct_beaten"
   ]
  },
  {
   "cell_type": "code",
   "execution_count": 34,
   "id": "1a8eaf15",
   "metadata": {},
   "outputs": [
    {
     "data": {
      "text/html": [
       "<div>\n",
       "<style scoped>\n",
       "    .dataframe tbody tr th:only-of-type {\n",
       "        vertical-align: middle;\n",
       "    }\n",
       "\n",
       "    .dataframe tbody tr th {\n",
       "        vertical-align: top;\n",
       "    }\n",
       "\n",
       "    .dataframe thead th {\n",
       "        text-align: right;\n",
       "    }\n",
       "</style>\n",
       "<table border=\"1\" class=\"dataframe\">\n",
       "  <thead>\n",
       "    <tr style=\"text-align: right;\">\n",
       "      <th></th>\n",
       "      <th>Total return</th>\n",
       "      <th>APR</th>\n",
       "      <th>Sharpe</th>\n",
       "      <th>maxDD</th>\n",
       "      <th>maxDDD</th>\n",
       "      <th>% random portfolios beaten</th>\n",
       "    </tr>\n",
       "  </thead>\n",
       "  <tbody>\n",
       "    <tr>\n",
       "      <th>Algo (OLS weighting)</th>\n",
       "      <td>0.007449</td>\n",
       "      <td>0.007479</td>\n",
       "      <td>1.071336</td>\n",
       "      <td>-0.004149</td>\n",
       "      <td>102.0</td>\n",
       "      <td>99.42</td>\n",
       "    </tr>\n",
       "    <tr>\n",
       "      <th>Algo (OLS weighting) 3 pos</th>\n",
       "      <td>0.269952</td>\n",
       "      <td>0.271161</td>\n",
       "      <td>1.132143</td>\n",
       "      <td>-0.135217</td>\n",
       "      <td>102.0</td>\n",
       "      <td>99.58</td>\n",
       "    </tr>\n",
       "    <tr>\n",
       "      <th>Algo (equal weighting)</th>\n",
       "      <td>0.012902</td>\n",
       "      <td>0.012954</td>\n",
       "      <td>2.107272</td>\n",
       "      <td>-0.001968</td>\n",
       "      <td>71.0</td>\n",
       "      <td>99.78</td>\n",
       "    </tr>\n",
       "  </tbody>\n",
       "</table>\n",
       "</div>"
      ],
      "text/plain": [
       "                            Total return       APR    Sharpe     maxDD  \\\n",
       "Algo (OLS weighting)            0.007449  0.007479  1.071336 -0.004149   \n",
       "Algo (OLS weighting) 3 pos      0.269952  0.271161  1.132143 -0.135217   \n",
       "Algo (equal weighting)          0.012902  0.012954  2.107272 -0.001968   \n",
       "\n",
       "                            maxDDD  % random portfolios beaten  \n",
       "Algo (OLS weighting)         102.0                       99.42  \n",
       "Algo (OLS weighting) 3 pos   102.0                       99.58  \n",
       "Algo (equal weighting)        71.0                       99.78  "
      ]
     },
     "execution_count": 34,
     "metadata": {},
     "output_type": "execute_result"
    }
   ],
   "source": [
    "results_df"
   ]
  },
  {
   "cell_type": "code",
   "execution_count": 35,
   "id": "445ac3e9",
   "metadata": {},
   "outputs": [],
   "source": [
    "# repeat for the version with 3 positions\n",
    "bootstrap_trs = [] # total returns\n",
    "\n",
    "for N in range(5000):\n",
    "    positions_bootstrap = shuffle_positions(positions_3p)\n",
    "    cumret_bootstrap = np.nancumprod((positions_bootstrap.shift().dropna() * returns_trade).sum(axis=1) \n",
    "                                / 3 + 1)\n",
    "    bootstrap_trs.append(calculate_metrics(cumret_bootstrap)[0])\n",
    "    \n",
    "bootstrap_trs = np.array(bootstrap_trs)"
   ]
  },
  {
   "cell_type": "code",
   "execution_count": 36,
   "id": "69d4c511",
   "metadata": {},
   "outputs": [],
   "source": [
    "total_return, apr, sharpe, maxDD, maxDDD = calculate_metrics(cumret_equal_3p)\n",
    "pct_beaten = 100 * (1 - len(bootstrap_trs[bootstrap_trs>total_return]) / len(bootstrap_trs))\n",
    "results_df.loc['Algo (equal weighting) 3 pos'] = total_return, apr, sharpe, maxDD, maxDDD, pct_beaten"
   ]
  },
  {
   "cell_type": "code",
   "execution_count": 37,
   "id": "1aa56091",
   "metadata": {},
   "outputs": [
    {
     "data": {
      "text/html": [
       "<div>\n",
       "<style scoped>\n",
       "    .dataframe tbody tr th:only-of-type {\n",
       "        vertical-align: middle;\n",
       "    }\n",
       "\n",
       "    .dataframe tbody tr th {\n",
       "        vertical-align: top;\n",
       "    }\n",
       "\n",
       "    .dataframe thead th {\n",
       "        text-align: right;\n",
       "    }\n",
       "</style>\n",
       "<table border=\"1\" class=\"dataframe\">\n",
       "  <thead>\n",
       "    <tr style=\"text-align: right;\">\n",
       "      <th></th>\n",
       "      <th>Total return</th>\n",
       "      <th>APR</th>\n",
       "      <th>Sharpe</th>\n",
       "      <th>maxDD</th>\n",
       "      <th>maxDDD</th>\n",
       "      <th>% random portfolios beaten</th>\n",
       "    </tr>\n",
       "  </thead>\n",
       "  <tbody>\n",
       "    <tr>\n",
       "      <th>Algo (OLS weighting)</th>\n",
       "      <td>0.007449</td>\n",
       "      <td>0.007479</td>\n",
       "      <td>1.071336</td>\n",
       "      <td>-0.004149</td>\n",
       "      <td>102.0</td>\n",
       "      <td>99.42</td>\n",
       "    </tr>\n",
       "    <tr>\n",
       "      <th>Algo (OLS weighting) 3 pos</th>\n",
       "      <td>0.269952</td>\n",
       "      <td>0.271161</td>\n",
       "      <td>1.132143</td>\n",
       "      <td>-0.135217</td>\n",
       "      <td>102.0</td>\n",
       "      <td>99.58</td>\n",
       "    </tr>\n",
       "    <tr>\n",
       "      <th>Algo (equal weighting)</th>\n",
       "      <td>0.012902</td>\n",
       "      <td>0.012954</td>\n",
       "      <td>2.107272</td>\n",
       "      <td>-0.001968</td>\n",
       "      <td>71.0</td>\n",
       "      <td>99.78</td>\n",
       "    </tr>\n",
       "    <tr>\n",
       "      <th>Algo (equal weighting) 3 pos</th>\n",
       "      <td>0.481495</td>\n",
       "      <td>0.483817</td>\n",
       "      <td>2.016000</td>\n",
       "      <td>-0.064503</td>\n",
       "      <td>76.0</td>\n",
       "      <td>99.78</td>\n",
       "    </tr>\n",
       "  </tbody>\n",
       "</table>\n",
       "</div>"
      ],
      "text/plain": [
       "                              Total return       APR    Sharpe     maxDD  \\\n",
       "Algo (OLS weighting)              0.007449  0.007479  1.071336 -0.004149   \n",
       "Algo (OLS weighting) 3 pos        0.269952  0.271161  1.132143 -0.135217   \n",
       "Algo (equal weighting)            0.012902  0.012954  2.107272 -0.001968   \n",
       "Algo (equal weighting) 3 pos      0.481495  0.483817  2.016000 -0.064503   \n",
       "\n",
       "                              maxDDD  % random portfolios beaten  \n",
       "Algo (OLS weighting)           102.0                       99.42  \n",
       "Algo (OLS weighting) 3 pos     102.0                       99.58  \n",
       "Algo (equal weighting)          71.0                       99.78  \n",
       "Algo (equal weighting) 3 pos    76.0                       99.78  "
      ]
     },
     "execution_count": 37,
     "metadata": {},
     "output_type": "execute_result"
    }
   ],
   "source": [
    "results_df"
   ]
  },
  {
   "cell_type": "markdown",
   "id": "36e35665",
   "metadata": {},
   "source": [
    "## correlation weighting"
   ]
  },
  {
   "cell_type": "code",
   "execution_count": 38,
   "id": "624a50e8",
   "metadata": {},
   "outputs": [],
   "source": [
    "positions = pd.DataFrame(index=prices_trade.index, columns=stocks)\n",
    "\n",
    "for s1 in stocks:\n",
    "    n_days = 0\n",
    "    spread = pd.Series(index=prices_trade.index, dtype='float64')\n",
    "\n",
    "    for t in prices_trade.index:\n",
    "        prices_tmp = prices.loc[:t].iloc[-494:] # trailing window\n",
    "        mu = prices_tmp.mean()\n",
    "        sigma = prices_tmp.std()\n",
    "        prices_tmp_norm = (prices_tmp - mu) / sigma # normalize prices\n",
    "        if (n_days % 10) == 0:\n",
    "            # update pair portfolio stocks\n",
    "            pfs = prices_tmp_norm.corr()[s1].sort_values().index[-(m+1):-1] # exclude last one because it is s1\n",
    "            # update pair portfolio weights\n",
    "            pfw = prices_tmp_norm.corr()[s1][pfs] / prices_tmp_norm.corr()[s1][pfs].sum() # correlation weighting\n",
    "\n",
    "        spread.loc[t] = prices_tmp_norm.loc[t][s1] - (pfw * prices_tmp_norm.loc[t][pfs]).sum()\n",
    "        n_days += 1\n",
    "\n",
    "        if spread.loc[t] >= d:\n",
    "            positions[s1].loc[t] = -1\n",
    "        elif spread.loc[t] <= -d:\n",
    "            positions[s1].loc[t] = 1\n",
    "        else:\n",
    "            positions[s1].loc[t] = 0"
   ]
  },
  {
   "cell_type": "code",
   "execution_count": 39,
   "id": "f192104d",
   "metadata": {},
   "outputs": [],
   "source": [
    "cumret_corr = np.nancumprod((positions.shift().dropna() * returns_trade).sum(axis=1) \n",
    "                             / len(returns_trade.columns) + 1)"
   ]
  },
  {
   "cell_type": "code",
   "execution_count": 40,
   "id": "f8e4a666",
   "metadata": {},
   "outputs": [
    {
     "data": {
      "text/plain": [
       "<matplotlib.legend.Legend at 0x7f94582a4070>"
      ]
     },
     "execution_count": 40,
     "metadata": {},
     "output_type": "execute_result"
    },
    {
     "data": {
      "image/png": "[encoded data removed]",
      "text/plain": [
       "<Figure size 1296x288 with 1 Axes>"
      ]
     },
     "metadata": {},
     "output_type": "display_data"
    }
   ],
   "source": [
    "plt.figure(figsize=(18,4))\n",
    "plt.plot(cumret_corr, label='Algo (correlation weighting)')\n",
    "plt.legend()"
   ]
  },
  {
   "cell_type": "code",
   "execution_count": 41,
   "id": "32dd2067",
   "metadata": {},
   "outputs": [
    {
     "data": {
      "text/plain": [
       "266"
      ]
     },
     "execution_count": 41,
     "metadata": {},
     "output_type": "execute_result"
    }
   ],
   "source": [
    "abs(positions).sum().sum()"
   ]
  },
  {
   "cell_type": "code",
   "execution_count": 42,
   "id": "84d888fb",
   "metadata": {},
   "outputs": [
    {
     "data": {
      "text/plain": [
       "<matplotlib.legend.Legend at 0x7f9439de5cd0>"
      ]
     },
     "execution_count": 42,
     "metadata": {},
     "output_type": "execute_result"
    },
    {
     "data": {
      "image/png": "[encoded data removed]",
      "text/plain": [
       "<Figure size 1296x288 with 1 Axes>"
      ]
     },
     "metadata": {},
     "output_type": "display_data"
    }
   ],
   "source": [
    "# limit the total number of positions on any given day to three\n",
    "positions_3p = positions.copy()\n",
    "positions_3p[abs(positions_3p).cumsum(axis=1)>3] = 0\n",
    "cumret_corr_3p = np.nancumprod((positions_3p.shift().dropna() * returns_trade).sum(axis=1) / 3 + 1)\n",
    "plt.figure(figsize=(18,4))\n",
    "plt.plot(cumret_corr_3p, label='Algo (correlation weighting), max 3 pos')\n",
    "plt.legend()"
   ]
  },
  {
   "cell_type": "code",
   "execution_count": 43,
   "id": "fa662829",
   "metadata": {},
   "outputs": [],
   "source": [
    "bootstrap_trs = [] # total returns\n",
    "\n",
    "for N in range(5000):\n",
    "    positions_bootstrap = shuffle_positions(positions)\n",
    "    cumret_bootstrap = np.nancumprod((positions_bootstrap.shift().dropna() * returns_trade).sum(axis=1) \n",
    "                                / len(returns_trade.columns) + 1)\n",
    "    bootstrap_trs.append(calculate_metrics(cumret_bootstrap)[0]) # save total return\n",
    "    \n",
    "bootstrap_trs = np.array(bootstrap_trs)"
   ]
  },
  {
   "cell_type": "code",
   "execution_count": 44,
   "id": "1b0a1fff",
   "metadata": {},
   "outputs": [],
   "source": [
    "total_return, apr, sharpe, maxDD, maxDDD = calculate_metrics(cumret_corr)\n",
    "pct_beaten = 100 * (1 - len(bootstrap_trs[bootstrap_trs>total_return]) / len(bootstrap_trs))\n",
    "results_df.loc['Algo (correlation weighting)'] = total_return, apr, sharpe, maxDD, maxDDD, pct_beaten"
   ]
  },
  {
   "cell_type": "code",
   "execution_count": 45,
   "id": "940c3a8c",
   "metadata": {},
   "outputs": [],
   "source": [
    "# repeat for the version with 3 positions\n",
    "bootstrap_trs = [] # total returns\n",
    "\n",
    "for N in range(5000):\n",
    "    positions_bootstrap = shuffle_positions(positions_3p)\n",
    "    cumret_bootstrap = np.nancumprod((positions_bootstrap.shift().dropna() * returns_trade).sum(axis=1) \n",
    "                                / 3 + 1)\n",
    "    bootstrap_trs.append(calculate_metrics(cumret_bootstrap)[0])\n",
    "    \n",
    "bootstrap_trs = np.array(bootstrap_trs)"
   ]
  },
  {
   "cell_type": "code",
   "execution_count": 46,
   "id": "59ff01c9",
   "metadata": {},
   "outputs": [],
   "source": [
    "total_return, apr, sharpe, maxDD, maxDDD = calculate_metrics(cumret_corr_3p)\n",
    "pct_beaten = 100 * (1 - len(bootstrap_trs[bootstrap_trs>total_return]) / len(bootstrap_trs))\n",
    "results_df.loc['Algo (correlation weighting) 3 pos'] = total_return, apr, sharpe, maxDD, maxDDD, pct_beaten"
   ]
  },
  {
   "cell_type": "code",
   "execution_count": 47,
   "id": "15109b77",
   "metadata": {},
   "outputs": [
    {
     "data": {
      "text/html": [
       "<div>\n",
       "<style scoped>\n",
       "    .dataframe tbody tr th:only-of-type {\n",
       "        vertical-align: middle;\n",
       "    }\n",
       "\n",
       "    .dataframe tbody tr th {\n",
       "        vertical-align: top;\n",
       "    }\n",
       "\n",
       "    .dataframe thead th {\n",
       "        text-align: right;\n",
       "    }\n",
       "</style>\n",
       "<table border=\"1\" class=\"dataframe\">\n",
       "  <thead>\n",
       "    <tr style=\"text-align: right;\">\n",
       "      <th></th>\n",
       "      <th>Total return</th>\n",
       "      <th>APR</th>\n",
       "      <th>Sharpe</th>\n",
       "      <th>maxDD</th>\n",
       "      <th>maxDDD</th>\n",
       "      <th>% random portfolios beaten</th>\n",
       "    </tr>\n",
       "  </thead>\n",
       "  <tbody>\n",
       "    <tr>\n",
       "      <th>Algo (OLS weighting)</th>\n",
       "      <td>0.007449</td>\n",
       "      <td>0.007479</td>\n",
       "      <td>1.071336</td>\n",
       "      <td>-0.004149</td>\n",
       "      <td>102.0</td>\n",
       "      <td>99.42</td>\n",
       "    </tr>\n",
       "    <tr>\n",
       "      <th>Algo (OLS weighting) 3 pos</th>\n",
       "      <td>0.269952</td>\n",
       "      <td>0.271161</td>\n",
       "      <td>1.132143</td>\n",
       "      <td>-0.135217</td>\n",
       "      <td>102.0</td>\n",
       "      <td>99.58</td>\n",
       "    </tr>\n",
       "    <tr>\n",
       "      <th>Algo (equal weighting)</th>\n",
       "      <td>0.012902</td>\n",
       "      <td>0.012954</td>\n",
       "      <td>2.107272</td>\n",
       "      <td>-0.001968</td>\n",
       "      <td>71.0</td>\n",
       "      <td>99.78</td>\n",
       "    </tr>\n",
       "    <tr>\n",
       "      <th>Algo (equal weighting) 3 pos</th>\n",
       "      <td>0.481495</td>\n",
       "      <td>0.483817</td>\n",
       "      <td>2.016000</td>\n",
       "      <td>-0.064503</td>\n",
       "      <td>76.0</td>\n",
       "      <td>99.78</td>\n",
       "    </tr>\n",
       "    <tr>\n",
       "      <th>Algo (correlation weighting)</th>\n",
       "      <td>0.013440</td>\n",
       "      <td>0.013494</td>\n",
       "      <td>2.196853</td>\n",
       "      <td>-0.001988</td>\n",
       "      <td>57.0</td>\n",
       "      <td>99.84</td>\n",
       "    </tr>\n",
       "    <tr>\n",
       "      <th>Algo (correlation weighting) 3 pos</th>\n",
       "      <td>0.517428</td>\n",
       "      <td>0.519952</td>\n",
       "      <td>2.134019</td>\n",
       "      <td>-0.065133</td>\n",
       "      <td>58.0</td>\n",
       "      <td>99.86</td>\n",
       "    </tr>\n",
       "  </tbody>\n",
       "</table>\n",
       "</div>"
      ],
      "text/plain": [
       "                                    Total return       APR    Sharpe  \\\n",
       "Algo (OLS weighting)                    0.007449  0.007479  1.071336   \n",
       "Algo (OLS weighting) 3 pos              0.269952  0.271161  1.132143   \n",
       "Algo (equal weighting)                  0.012902  0.012954  2.107272   \n",
       "Algo (equal weighting) 3 pos            0.481495  0.483817  2.016000   \n",
       "Algo (correlation weighting)            0.013440  0.013494  2.196853   \n",
       "Algo (correlation weighting) 3 pos      0.517428  0.519952  2.134019   \n",
       "\n",
       "                                       maxDD  maxDDD  \\\n",
       "Algo (OLS weighting)               -0.004149   102.0   \n",
       "Algo (OLS weighting) 3 pos         -0.135217   102.0   \n",
       "Algo (equal weighting)             -0.001968    71.0   \n",
       "Algo (equal weighting) 3 pos       -0.064503    76.0   \n",
       "Algo (correlation weighting)       -0.001988    57.0   \n",
       "Algo (correlation weighting) 3 pos -0.065133    58.0   \n",
       "\n",
       "                                    % random portfolios beaten  \n",
       "Algo (OLS weighting)                                     99.42  \n",
       "Algo (OLS weighting) 3 pos                               99.58  \n",
       "Algo (equal weighting)                                   99.78  \n",
       "Algo (equal weighting) 3 pos                             99.78  \n",
       "Algo (correlation weighting)                             99.84  \n",
       "Algo (correlation weighting) 3 pos                       99.86  "
      ]
     },
     "execution_count": 47,
     "metadata": {},
     "output_type": "execute_result"
    }
   ],
   "source": [
    "results_df"
   ]
  },
  {
   "cell_type": "code",
   "execution_count": null,
   "id": "5cf21eae",
   "metadata": {},
   "outputs": [],
   "source": []
  }
 ],
 "metadata": {
  "kernelspec": {
   "display_name": "Python 3 (ipykernel)",
   "language": "python",
   "name": "python3"
  },
  "language_info": {
   "codemirror_mode": {
    "name": "ipython",
    "version": 3
   },
   "file_extension": ".py",
   "mimetype": "text/x-python",
   "name": "python",
   "nbconvert_exporter": "python",
   "pygments_lexer": "ipython3",
   "version": "3.8.12"
  }
 },
 "nbformat": 4,
 "nbformat_minor": 5
}
